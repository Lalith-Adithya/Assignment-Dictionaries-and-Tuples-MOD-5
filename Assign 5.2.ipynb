{
 "cells": [
  {
   "cell_type": "code",
   "execution_count": 1,
   "metadata": {},
   "outputs": [
    {
     "ename": "SyntaxError",
     "evalue": "invalid syntax (<ipython-input-1-139c3a62005c>, line 2)",
     "output_type": "error",
     "traceback": [
      "\u001b[1;36m  File \u001b[1;32m\"<ipython-input-1-139c3a62005c>\"\u001b[1;36m, line \u001b[1;32m2\u001b[0m\n\u001b[1;33m    A dictionary is a collection of unordered set of key:value pairs, with the requirement that keys are unique in one dictionary.\u001b[0m\n\u001b[1;37m      ^\u001b[0m\n\u001b[1;31mSyntaxError\u001b[0m\u001b[1;31m:\u001b[0m invalid syntax\n"
     ]
    }
   ],
   "source": [
    "#1.DICTIONARY IN PYTHON\n",
    "A dictionary is a collection of unordered set of key:value pairs, with the requirement that keys are unique in one dictionary.\n",
    "Unlike lists and strings where elements are accessed using index values (which are integers), the values in dictionary \n",
    "are accessed using keys. A key in dictionary can be any immutable type like strings, numbers and tuples. \n",
    "(The tuple can be made as a key for dictionary, only if that tuple consist of string/number/ sub-tuples).\n",
    "As lists are mutable – that is, can be modified using index assignments, slicing, or using methods like append(), extend() etc,\n",
    "they cannot be a key for dictionary.\n",
    "One can think of a dictionary as a mapping between set of indices (which are actually keys)"
   ]
  },
  {
   "cell_type": "code",
   "execution_count": 2,
   "metadata": {},
   "outputs": [
    {
     "name": "stdout",
     "output_type": "stream",
     "text": [
      "{'a': 1, 'b': 2, 'c': 3}\n"
     ]
    }
   ],
   "source": [
    "#Example\n",
    "d={\"a\":1,\"b\":2,\"c\":3}\n",
    "print(d)\n"
   ]
  },
  {
   "cell_type": "code",
   "execution_count": 25,
   "metadata": {},
   "outputs": [
    {
     "name": "stdout",
     "output_type": "stream",
     "text": [
      "Sum of all elements in given list:  74\n"
     ]
    }
   ],
   "source": [
    "#program to sum all the items in a list\n",
    "list1 = [122,23,1,12,34,56]   \n",
    "tot = 0\n",
    "for i in range(0, len(list1)): \n",
    "    tot = tot + list1[i] \n",
    "print(\"Sum of all elements in given list: \", total)"
   ]
  },
  {
   "cell_type": "code",
   "execution_count": 26,
   "metadata": {},
   "outputs": [
    {
     "name": "stdout",
     "output_type": "stream",
     "text": [
      "[{}, {}, {}, {}, {}, {}, {}, {}, {}, {}]\n"
     ]
    }
   ],
   "source": [
    "#program to create a list of empty dictionaries\n",
    "n = 10\n",
    "l = [{} for _ in range(n)]\n",
    "print(l)"
   ]
  },
  {
   "cell_type": "code",
   "execution_count": 27,
   "metadata": {},
   "outputs": [
    {
     "name": "stdout",
     "output_type": "stream",
     "text": [
      "red\n"
     ]
    }
   ],
   "source": [
    "#program to access dictionary keys element by index\n",
    "n= {'blue': 20, 'red': 30, 'green': 40}\n",
    "print(list(n)[1])"
   ]
  },
  {
   "cell_type": "code",
   "execution_count": 29,
   "metadata": {},
   "outputs": [
    {
     "name": "stdout",
     "output_type": "stream",
     "text": [
      "('blue', 20)\n",
      "('red', 30)\n",
      "('green', 40)\n"
     ]
    }
   ],
   "source": [
    "#program to iterate over dictionaries using for loops\n",
    "d1={'blue': 20, 'red': 30, 'green': 40}\n",
    "for i in d1.items():\n",
    "  print(i)"
   ]
  },
  {
   "cell_type": "code",
   "execution_count": 30,
   "metadata": {},
   "outputs": [
    {
     "name": "stdout",
     "output_type": "stream",
     "text": [
      "90\n"
     ]
    }
   ],
   "source": [
    "#program to sum all the items in a dictionary\n",
    "t = {'blue': 20, 'red': 30, 'green': 40}\n",
    "print(sum(t.values()))"
   ]
  },
  {
   "cell_type": "code",
   "execution_count": 35,
   "metadata": {},
   "outputs": [
    {
     "name": "stdout",
     "output_type": "stream",
     "text": [
      "{1: 2, 8: 20, 3: 4, 9: 40, 5: 6, 10: 60}\n"
     ]
    }
   ],
   "source": [
    "#program to concatenate dictionaries to create a new one.\n",
    "d1={1:2, 8:20}\n",
    "d2={3:4, 9:40}\n",
    "d3={5:6,10:60}\n",
    "d4 = {}\n",
    "for i in (d1, d2, d3): d4.update(i)\n",
    "print(d4)"
   ]
  },
  {
   "cell_type": "code",
   "execution_count": 9,
   "metadata": {},
   "outputs": [
    {
     "name": "stdout",
     "output_type": "stream",
     "text": [
      "(1, 2, 3)\n"
     ]
    }
   ],
   "source": [
    "#program to create a tuple\n",
    "tuple1=(1,2,3)\n",
    "print(tuple1)"
   ]
  },
  {
   "cell_type": "code",
   "execution_count": 10,
   "metadata": {},
   "outputs": [
    {
     "name": "stdout",
     "output_type": "stream",
     "text": [
      "('tuple', False, 3.2, 1)\n"
     ]
    }
   ],
   "source": [
    "#program to create a tuple with different data types\n",
    "tuple=(\"tuple\", False, 3.2, 1)\n",
    "print(tuple)"
   ]
  },
  {
   "cell_type": "code",
   "execution_count": 11,
   "metadata": {},
   "outputs": [
    {
     "name": "stdout",
     "output_type": "stream",
     "text": [
      "('tuple', False, 3.2, 1)\n"
     ]
    }
   ],
   "source": [
    "#program to create a tuple with different data types\n",
    "tuple=(\"tuple\", False, 3.2, 1)\n",
    "print(tuple)"
   ]
  },
  {
   "cell_type": "code",
   "execution_count": 12,
   "metadata": {},
   "outputs": [
    {
     "name": "stdout",
     "output_type": "stream",
     "text": [
      "exercises\n"
     ]
    }
   ],
   "source": [
    "#program to convert a tuple to a string.\n",
    "tuple=('e', 'x', 'e', 'r', 'c', 'i', 's', 'e', 's')\n",
    "str=''.join(tuple)\n",
    "print(str)"
   ]
  },
  {
   "cell_type": "code",
   "execution_count": 43,
   "metadata": {},
   "outputs": [
    {
     "name": "stdout",
     "output_type": "stream",
     "text": [
      "(5, 4)\n",
      "(2, 4, 3, 5, 4, 6)\n",
      "(6, 7, 8, 6, 1)\n"
     ]
    }
   ],
   "source": [
    "#program to slice a tuple\n",
    "t = (2, 4, 3, 5, 4, 6, 7, 8, 6, 1)\n",
    "slice = t[3:5]\n",
    "print(slice)\n",
    "slice = t[:6]\n",
    "print(slice)\n",
    "slice = t[5:]\n",
    "print(slice)"
   ]
  },
  {
   "cell_type": "code",
   "execution_count": 14,
   "metadata": {},
   "outputs": [
    {
     "name": "stdout",
     "output_type": "stream",
     "text": [
      "5\n"
     ]
    }
   ],
   "source": [
    "#program to find the length of a tuple\n",
    "tuple1=(1,2,4,6,7)\n",
    "print(len(tuple1))"
   ]
  },
  {
   "cell_type": "code",
   "execution_count": 42,
   "metadata": {},
   "outputs": [
    {
     "name": "stdout",
     "output_type": "stream",
     "text": [
      "{'r': 2, 'a': 3}\n"
     ]
    }
   ],
   "source": [
    "#program to convert a tuple to a dictionary\n",
    "t = ((2, \"r\"),(3, \"a\"))\n",
    "print(dict((y, x) for x, y in t))"
   ]
  },
  {
   "cell_type": "code",
   "execution_count": 41,
   "metadata": {},
   "outputs": [
    {
     "name": "stdout",
     "output_type": "stream",
     "text": [
      "100\n",
      "mercedes\n",
      "23\n"
     ]
    }
   ],
   "source": [
    "#program to reverse a tuple\n",
    "my_tuple = (23,'mercedes',100)\n",
    "def reverse_enum(my_tuple):\n",
    "   for index in reversed(range(len(my_tuple))):\n",
    "      yield my_tuple[index]\n",
    "for item in reverse_enum(my_tuple):\n",
    "   print(item)"
   ]
  },
  {
   "cell_type": "code",
   "execution_count": 17,
   "metadata": {},
   "outputs": [
    {
     "name": "stdout",
     "output_type": "stream",
     "text": [
      "{'x': [1, 2, 3], 'y': [1, 2], 'z': [1]}\n"
     ]
    }
   ],
   "source": [
    "#program to convert a list of tuples into a dictionary\n",
    "l = [(\"x\", 1), (\"x\", 2), (\"x\", 3), (\"y\", 1), (\"y\", 2), (\"z\", 1)]\n",
    "d = {}\n",
    "for a, b in l:\n",
    "    d.setdefault(a, []).append(b)\n",
    "print (d)"
   ]
  },
  {
   "cell_type": "code",
   "execution_count": null,
   "metadata": {},
   "outputs": [],
   "source": []
  },
  {
   "cell_type": "code",
   "execution_count": null,
   "metadata": {},
   "outputs": [],
   "source": []
  }
 ],
 "metadata": {
  "kernelspec": {
   "display_name": "Python 3",
   "language": "python",
   "name": "python3"
  },
  "language_info": {
   "codemirror_mode": {
    "name": "ipython",
    "version": 3
   },
   "file_extension": ".py",
   "mimetype": "text/x-python",
   "name": "python",
   "nbconvert_exporter": "python",
   "pygments_lexer": "ipython3",
   "version": "3.8.3"
  }
 },
 "nbformat": 4,
 "nbformat_minor": 4
}
